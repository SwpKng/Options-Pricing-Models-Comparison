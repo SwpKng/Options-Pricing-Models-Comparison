{
 "cells": [
  {
   "cell_type": "code",
   "execution_count": 1,
   "metadata": {},
   "outputs": [],
   "source": [
    "def fetch_risk_free_rate(date_str=None):\n",
    "    \"\"\"\n",
    "    Fetch the risk-free rate using the given date or default to the latest rate.\n",
    "\n",
    "    Parameters:\n",
    "    -----------\n",
    "    date_str : str - Date in format '%Y-%m-%d'. Defaults to None.\n",
    "\n",
    "    Returns:\n",
    "    --------\n",
    "    float - Risk-free rate.\n",
    "    \"\"\"\n",
    "    treasury_rate = yf.Ticker(\"^TNX\").history(start='1900-01-01')\n",
    "    treasury_rate.index = pd.to_datetime(treasury_rate.index).tz_localize(None)\n",
    "    if date_str:\n",
    "        date = datetime.strptime(date_str, \"%Y-%m-%d\")\n",
    "        nearest_index = treasury_rate.index.get_indexer([pd.Timestamp(date)], method='nearest')[0]\n",
    "        return treasury_rate.iloc[nearest_index]['Close'] / 100\n",
    "    return treasury_rate['Close'].iloc[-1] / 100\n"
   ]
  }
 ],
 "metadata": {
  "kernelspec": {
   "display_name": "Python 3 (ipykernel)",
   "language": "python",
   "name": "python3"
  },
  "language_info": {
   "codemirror_mode": {
    "name": "ipython",
    "version": 3
   },
   "file_extension": ".py",
   "mimetype": "text/x-python",
   "name": "python",
   "nbconvert_exporter": "python",
   "pygments_lexer": "ipython3",
   "version": "3.12.1"
  }
 },
 "nbformat": 4,
 "nbformat_minor": 2
}
