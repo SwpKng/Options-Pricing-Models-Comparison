{
 "cells": [
  {
   "cell_type": "code",
   "execution_count": 4,
   "metadata": {},
   "outputs": [],
   "source": [
    "#Imports\n",
    "\n",
    "import math\n",
    "from scipy.stats import norm\n",
    "import yfinance as yf\n",
    "import pandas as pd\n",
    "from datetime import datetime\n",
    "\n",
    "%run \"./Back-End/Pricing Models/Black-Scholes/calc_risk_free_rate.ipynb\""
   ]
  },
  {
   "cell_type": "code",
   "execution_count": 5,
   "metadata": {},
   "outputs": [],
   "source": [
    "\n",
    "\n",
    "def option_price(S, K, T, v, r, option_type):\n",
    "    \"\"\"\n",
    "    Calculate the price of an option using the Black-Scholes formula.\n",
    "\n",
    "    Parameters:\n",
    "    S : float - Current stock price\n",
    "    K : float - Strike price\n",
    "    T : float - Time to maturity in years\n",
    "    v : float - Volatility of the underlying asset\n",
    "    r : float - Risk-free interest rate\n",
    "    option_type : str - 'C' for Call or 'P' for Put\n",
    "\n",
    "    Returns:\n",
    "    float - Option price\n",
    "    \"\"\"\n",
    "\n",
    "    # Calculate d1: Normalized distance between S and K, adjusted for volatility and time.\n",
    "    d1 = (math.log(S / K) + (r + 0.5 * v ** 2) * T) / (v * math.sqrt(T))\n",
    "\n",
    "    # Calculate d2: Offset of d1 by the volatility term, accounting for the time to maturity.\n",
    "    d2 = d1 - (v * math.sqrt(T))\n",
    "\n",
    "    if option_type.upper() == 'C':\n",
    "        return S * norm.cdf(d1) - K * math.exp(-r * T) * norm.cdf(d2)\n",
    "    elif option_type.upper() == 'P':\n",
    "        return K * math.exp(-r * T) * norm.cdf(-d2) - S * norm.cdf(-d1)\n",
    "    else:\n",
    "        raise ValueError(\"Invalid option_type. Use 'C' for Call or 'P' for Put.\")\n",
    "  \n",
    "    return option_price\n",
    "\n"
   ]
  },
  {
   "cell_type": "code",
   "execution_count": 6,
   "metadata": {},
   "outputs": [
    {
     "name": "stdout",
     "output_type": "stream",
     "text": [
      "Call Option Price: 9.90\n",
      "Put Option Price: 6.03\n"
     ]
    }
   ],
   "source": [
    "\n",
    "# Fetch the risk-free rate\n",
    "r = fetch_risk_free_rate(date_str=\"2024-01-01\")\n",
    "\n",
    "# Calculate Call Price\n",
    "call_price = option_price(S=100, K=100, T=1, v=0.2, r=r, option_type='C')\n",
    "print(f\"Call Option Price: {call_price:.2f}\")\n",
    "\n",
    "# Calculate Put Price\n",
    "put_price = option_price(S=100, K=100, T=1, v=0.2, r=r, option_type='P')\n",
    "print(f\"Put Option Price: {put_price:.2f}\")\n"
   ]
  }
 ],
 "metadata": {
  "datalore": {
   "base_environment": "default",
   "computation_mode": "JUPYTER",
   "package_manager": "pip",
   "packages": [
    {
     "name": "yahoofinance",
     "source": "PIP",
     "version": "0.0.2"
    }
   ],
   "report_row_ids": [
    "I15tgv3GqNRg3EX9Xa8KJZ",
    "LvVxoxjgTp5HCpztKoQOY8",
    "ZWeeRndIqHCj4UIj0zUeYz",
    "DWJ3CNt1oEToIl2dictmRd",
    "AihNuJxbJaAB5pOh3hdIgD"
   ],
   "version": 3
  },
  "kernelspec": {
   "display_name": "Python 3 (ipykernel)",
   "language": "python",
   "name": "python3"
  },
  "language_info": {
   "codemirror_mode": {
    "name": "ipython",
    "version": 3
   },
   "file_extension": ".py",
   "mimetype": "text/x-python",
   "name": "python",
   "nbconvert_exporter": "python",
   "pygments_lexer": "ipython3",
   "version": "3.12.1"
  }
 },
 "nbformat": 4,
 "nbformat_minor": 4
}
