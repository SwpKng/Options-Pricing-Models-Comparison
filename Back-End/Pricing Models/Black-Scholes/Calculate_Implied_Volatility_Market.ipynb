{
 "cells": [
  {
   "cell_type": "code",
   "execution_count": 1,
   "metadata": {},
   "outputs": [
    {
     "name": "stdout",
     "output_type": "stream",
     "text": [
      "Call Option Price: 9.90\n",
      "Put Option Price: 6.03\n"
     ]
    }
   ],
   "source": [
    "from math import sqrt, log, exp\n",
    "from scipy.stats import norm\n",
    "from scipy.optimize import newton\n",
    "from datetime import datetime\n",
    "\n",
    "%run \"./Back-End/Pricing Models/Black-Scholes/Black_Scholes_Option_Pricing_Model.ipynb\"\n",
    "%run \"./Back-End/Pricing Models/Black-Scholes/calc_risk_free_rate.ipynb\"\n"
   ]
  },
  {
   "cell_type": "code",
   "execution_count": 2,
   "metadata": {},
   "outputs": [],
   "source": [
    "def calculate_implied_volatility(S, K, T, market_price, r, option_type):\n",
    "    \"\"\"\n",
    "    Calculate the implied volatility using Black-Scholes formula and Newton-Raphson method.\n",
    "\n",
    "    Parameters:\n",
    "    -----------\n",
    "    S : float - Current stock price.\n",
    "    K : float - Strike price.\n",
    "    T : float - Time to maturity in years.\n",
    "    market_price : float - Market price of the option.\n",
    "    option_type : str - 'C' for Call or 'P' for Put.\n",
    "    r : float - Risk-free interest rate.\n",
    "\n",
    "    Returns:\n",
    "    --------\n",
    "    float\n",
    "        Implied volatility or a failure message if the calculation does not converge.\n",
    "    \"\"\"\n",
    "    \n",
    "    # Define the objective function for Newton-Raphson\n",
    "    def objective_function(volatility):\n",
    "        \"\"\"\n",
    "        Calculates the difference between Black-Scholes price and market price.\n",
    "\n",
    "        Parameters:\n",
    "        -----------\n",
    "        volatility : float - Implied volatility guess.\n",
    "\n",
    "        Returns:\n",
    "        --------\n",
    "        float - Price difference.\n",
    "        \"\"\"\n",
    "        price = option_price(S, K, T, volatility, r, option_type,)\n",
    "        return price - market_price\n",
    "\n",
    "    # Define vega (sensitivity to volatility)\n",
    "    def vega(volatility):\n",
    "        \"\"\"\n",
    "        Vega of the option, the sensitivity of option price to changes in volatility.\n",
    "\n",
    "        Parameters:\n",
    "        -----------\n",
    "        volatility : float - Implied volatility guess.\n",
    "\n",
    "        Returns:\n",
    "        --------\n",
    "        float\n",
    "            Vega value.\n",
    "        \"\"\"\n",
    "        d1 = (log(S / K) + (r + 0.5 * volatility ** 2) * T) / (volatility * sqrt(T))\n",
    "        return S * sqrt(T) * norm.pdf(d1)\n",
    "\n",
    "    # Initial guess for Newton-Raphson\n",
    "    volatility_guess = 0.2\n",
    "    try:\n",
    "        # Calculate implied volatility\n",
    "        implied_volatility = newton(objective_function, volatility_guess, fprime=vega)\n",
    "        return round(implied_volatility, 4)\n",
    "    except RuntimeError:\n",
    "        return \"Failed to converge: Try another initial guess\"\n"
   ]
  },
  {
   "cell_type": "code",
   "execution_count": 3,
   "metadata": {},
   "outputs": [
    {
     "name": "stdout",
     "output_type": "stream",
     "text": [
      "Implied Volatility: 0.2549\n"
     ]
    }
   ],
   "source": [
    "# Fetch the risk-free rate\n",
    "r = fetch_risk_free_rate(date_str=\"2024-01-01\")\n",
    "\n",
    "# Calculate implied volatility\n",
    "implied_volatility = calculate_implied_volatility(S=100, K=100, T=1, market_price=12, r=r, option_type='C')\n",
    "\n",
    "# Display the implied volatility\n",
    "print(f\"Implied Volatility: {implied_volatility:.4f}\")\n"
   ]
  }
 ],
 "metadata": {
  "kernelspec": {
   "display_name": "Python 3 (ipykernel)",
   "language": "python",
   "name": "python3"
  },
  "language_info": {
   "codemirror_mode": {
    "name": "ipython",
    "version": 3
   },
   "file_extension": ".py",
   "mimetype": "text/x-python",
   "name": "python",
   "nbconvert_exporter": "python",
   "pygments_lexer": "ipython3",
   "version": "3.12.1"
  }
 },
 "nbformat": 4,
 "nbformat_minor": 2
}
