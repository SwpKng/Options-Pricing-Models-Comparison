{
 "cells": [
  {
   "cell_type": "code",
   "execution_count": null,
   "metadata": {},
   "outputs": [
    {
     "ename": "",
     "evalue": "",
     "output_type": "error",
     "traceback": [
      "\u001b[1;31mFailed to connect to remote Jupyter Server.\n",
      "\u001b[1;31mCheck that the Jupyter Server URL can be reached from a browser.\n",
      "\u001b[1;31mhttps://jupyter-server-p55qjxx4wq4cr7jp-8888.app.github.dev/. Click <a href='https://aka.ms/vscjremoteweb'>here</a> for more information."
     ]
    }
   ],
   "source": [
    "\n",
    "import math\n",
    "from scipy.stats import norm\n",
    "import yfinance as yf\n",
    "import pandas as pd\n",
    "from datetime import datetime\n",
    "import option_price\n",
    "\n",
    "def option_price(S, K, T, v, option_type, date_str=None):\n",
    "    # Fetch the historical data for 10 year US Treasury \n",
    "    treasury_rate = yf.Ticker(\"^TNX\").history(start='1900-1-1')\n",
    "\n",
    "    if date_str is None:  # If no date provided use the last available rate\n",
    "        r = treasury_rate['Close'].iloc[-1] / 100  \n",
    "    else:\n",
    "        date = datetime.strptime(date_str, \"%Y-%m-%d\")\n",
    "        \n",
    "        # Strip the date index of its timezone information\n",
    "        treasury_rate.index = treasury_rate.index.tz_localize(None)\n",
    "        \n",
    "        nearest_index = treasury_rate.index.get_indexer([date], method='nearest')[0]\n",
    "        r = treasury_rate.iloc[nearest_index]['Close'] / 100 \n",
    "\n",
    "    d1 = (math.log(S/K) + (r + 0.5 * v ** 2) * T) / (v * math.sqrt(T))\n",
    "    d2 = d1 - (v * math.sqrt(T))\n",
    "\n",
    "    if option_type.upper() == 'C':\n",
    "        option_price = S * norm.cdf(d1) - K * math.exp(-r * T) * norm.cdf(d2)\n",
    "    elif option_type.upper() == 'P':\n",
    "        option_price = K * math.exp(-r * T) * norm.cdf(-d2) - S * norm.cdf(-d1)\n",
    "    else:\n",
    "        raise ValueError(\"option_type unknown, available options are 'C' and 'P'\")\n",
    "  \n",
    "    return option_price\n",
    "\n",
    "print('Call Price: $', round(option_price(S=42, K=40, T=0.5, v=0.2, option_type='C', date_str='2024-01-01'), 2))\n",
    "print('Put Price: $', round(option_price(S=42, K=40, T=0.5, v=0.2, option_type='P', date_str='2024-01-01'), 2))\n",
    "Call Price: $ 3.94\n",
    "Put Price: $ 1.16"
   ]
  }
 ],
 "metadata": {
  "kernelspec": {
   "display_name": "Python 3 (ipykernel)",
   "language": "python",
   "name": "python3"
  }
 },
 "nbformat": 4,
 "nbformat_minor": 2
}
