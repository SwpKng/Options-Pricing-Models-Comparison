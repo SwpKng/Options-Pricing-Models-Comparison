{
 "cells": [
  {
   "cell_type": "code",
   "execution_count": 25,
   "metadata": {},
   "outputs": [
    {
     "name": "stdout",
     "output_type": "stream",
     "text": [
      "Call Price: $ 3.94\n",
      "Put Price: $ 1.16\n"
     ]
    }
   ],
   "source": [
    "from math import sqrt, log, exp\n",
    "from scipy.stats import norm\n",
    "from scipy.optimize import newton\n",
    "from datetime import datetime\n",
    "\n",
    "# import the option_price method from the Black_Scholes_Option_Pricing_Model notebook\n",
    "%run './Back-End/Pricing Models/Black-Scholes/Black_Scholes_Option_Pricing_Model.ipynb'\n"
   ]
  },
  {
   "cell_type": "code",
   "execution_count": 26,
   "metadata": {},
   "outputs": [],
   "source": [
    "def calculate_implied_volatility(S, K, T, market_price, option_type, date_str=None):\n",
    "    \"\"\"\n",
    "    Calculate the implied volatility using Black-Scholes formula and Newton-Raphson method\n",
    "    when market sources for volatility are unavailable.\n",
    "    \"\"\"\n",
    "    # Define the objective function and its derivative\n",
    "    def objective_function(volatility):\n",
    "        \"\"\"\n",
    "        Objective function: Difference between the calculated and market prices.\n",
    "        \"\"\"\n",
    "        price = option_price(S, K, T, volatility, option_type, date_str)\n",
    "        print(f\"Objective Function - Volatility: {volatility}, Price: {price}, Market Price: {market_price}\")\n",
    "        return price - market_price\n",
    "\n",
    "    def vega(volatility):\n",
    "        \"\"\"\n",
    "        Vega (the derivative of the option price with respect to volatility).\n",
    "        \"\"\"\n",
    "        # Calculate the rate using option_price logic for consistency\n",
    "        r = fetch_risk_free_rate(date_str)\n",
    "        d1 = (log(S / K) + (r + 0.5 * volatility ** 2) * T) / (volatility * sqrt(T))\n",
    "        return S * sqrt(T) * norm.pdf(d1)\n",
    "\n",
    "    # Fetch the risk-free rate\n",
    "    def fetch_risk_free_rate(date_str):\n",
    "        \"\"\"\n",
    "        Fetch the risk-free rate using the same logic as the option_price function.\n",
    "        \"\"\"\n",
    "        treasury_rate = yf.Ticker(\"^TNX\").history(start='1900-1-1')\n",
    "        treasury_rate.index = pd.to_datetime(treasury_rate.index).tz_localize(None)\n",
    "        if date_str is None:\n",
    "            return treasury_rate['Close'].iloc[-1] / 100\n",
    "        else:\n",
    "            date = datetime.strptime(date_str, \"%Y-%m-%d\")\n",
    "            nearest_index = treasury_rate.index.get_indexer([pd.Timestamp(date)], method='nearest')[0]\n",
    "            return treasury_rate.iloc[nearest_index]['Close'] / 100\n",
    "\n",
    "    # Solve for implied volatility\n",
    "    volatility_guess = 0.2\n",
    "    try:\n",
    "        implied_volatility = newton(objective_function, volatility_guess, fprime=vega)\n",
    "        return implied_volatility\n",
    "    except RuntimeError as e:\n",
    "        print(f\"Newton method failed to converge. Error: {e}\")\n",
    "        return \"Failed to converge: Try another initial guess\"\n"
   ]
  },
  {
   "cell_type": "code",
   "execution_count": 27,
   "metadata": {},
   "outputs": [
    {
     "name": "stdout",
     "output_type": "stream",
     "text": [
      "Objective Function - Volatility: 0.2, Price: 9.897066333083465, Market Price: 12\n",
      "Objective Function - Volatility: 0.25509454044537544, Price: 12.005686960678617, Market Price: 12\n",
      "Objective Function - Volatility: 0.2549461973379464, Price: 12.000000012694379, Market Price: 12\n",
      "Implied Volatility:  0.25494619700681487\n"
     ]
    }
   ],
   "source": [
    "# Test\n",
    "S = 100 # Underlying asset price\n",
    "K = 100 # Strike price\n",
    "T = 1 # One year until expiry\n",
    "market_price = 12 # Retrieve this from your data\n",
    "option_type = 'C' # This can either be 'C' or 'P'\n",
    "date_str = '2024-01-01' # Example date, can be removed for the last available rate\n",
    "\n",
    "implied_volatility = calculate_implied_volatility(S, K, T, market_price, option_type, date_str)\n",
    "print(\"Implied Volatility: \", implied_volatility)\n"
   ]
  }
 ],
 "metadata": {
  "kernelspec": {
   "display_name": "Python 3 (ipykernel)",
   "language": "python",
   "name": "python3"
  },
  "language_info": {
   "codemirror_mode": {
    "name": "ipython",
    "version": 3
   },
   "file_extension": ".py",
   "mimetype": "text/x-python",
   "name": "python",
   "nbconvert_exporter": "python",
   "pygments_lexer": "ipython3",
   "version": "3.12.1"
  }
 },
 "nbformat": 4,
 "nbformat_minor": 2
}
