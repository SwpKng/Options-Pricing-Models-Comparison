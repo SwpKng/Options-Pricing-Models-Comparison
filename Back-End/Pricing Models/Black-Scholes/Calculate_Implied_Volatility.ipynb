{
 "cells": [
  {
   "cell_type": "code",
   "execution_count": 6,
   "metadata": {},
   "outputs": [
    {
     "name": "stdout",
     "output_type": "stream",
     "text": [
      "Requirement already satisfied: nbimporter in /usr/local/python/3.12.1/lib/python3.12/site-packages (0.3.4)\n"
     ]
    },
    {
     "ename": "ModuleNotFoundError",
     "evalue": "No module named 'Black_Scholes_Option_Pricing_Model'",
     "output_type": "error",
     "traceback": [
      "\u001b[0;31m---------------------------------------------------------------------------\u001b[0m",
      "\u001b[0;31mModuleNotFoundError\u001b[0m                       Traceback (most recent call last)",
      "Cell \u001b[0;32mIn[6], line 10\u001b[0m\n\u001b[1;32m      8\u001b[0m get_ipython()\u001b[38;5;241m.\u001b[39msystem(\u001b[38;5;124m'\u001b[39m\u001b[38;5;124mpip install nbimporter\u001b[39m\u001b[38;5;124m'\u001b[39m)\n\u001b[1;32m      9\u001b[0m \u001b[38;5;28;01mimport\u001b[39;00m \u001b[38;5;21;01mnbimporter\u001b[39;00m\n\u001b[0;32m---> 10\u001b[0m \u001b[38;5;28;01mfrom\u001b[39;00m \u001b[38;5;21;01mBlack_Scholes_Option_Pricing_Model\u001b[39;00m \u001b[38;5;28;01mimport\u001b[39;00m option_price\n\u001b[1;32m     13\u001b[0m \u001b[38;5;28;01mdef\u001b[39;00m \u001b[38;5;21moption_price\u001b[39m(S, K, T, v, option_type, date_str\u001b[38;5;241m=\u001b[39m\u001b[38;5;28;01mNone\u001b[39;00m):\n\u001b[1;32m     14\u001b[0m     \u001b[38;5;66;03m# Fetch the historical data for 10 year US Treasury \u001b[39;00m\n\u001b[1;32m     15\u001b[0m     treasury_rate \u001b[38;5;241m=\u001b[39m yf\u001b[38;5;241m.\u001b[39mTicker(\u001b[38;5;124m\"\u001b[39m\u001b[38;5;124m^TNX\u001b[39m\u001b[38;5;124m\"\u001b[39m)\u001b[38;5;241m.\u001b[39mhistory(start\u001b[38;5;241m=\u001b[39m\u001b[38;5;124m'\u001b[39m\u001b[38;5;124m1900-1-1\u001b[39m\u001b[38;5;124m'\u001b[39m)\n",
      "\u001b[0;31mModuleNotFoundError\u001b[0m: No module named 'Black_Scholes_Option_Pricing_Model'"
     ]
    }
   ],
   "source": [
    "\n",
    "import math\n",
    "from scipy.stats import norm\n",
    "import yfinance as yf\n",
    "import pandas as pd\n",
    "from datetime import datetime\n",
    "\n",
    "\n",
    "!pip install nbimporter\n",
    "import nbimporter\n",
    "from Black_Scholes_Option_Pricing_Model import option_price\n",
    "\n",
    "\n",
    "def option_price(S, K, T, v, option_type, date_str=None):\n",
    "    # Fetch the historical data for 10 year US Treasury \n",
    "    treasury_rate = yf.Ticker(\"^TNX\").history(start='1900-1-1')\n",
    "\n",
    "    if date_str is None:  # If no date provided use the last available rate\n",
    "        r = treasury_rate['Close'].iloc[-1] / 100  \n",
    "    else:\n",
    "        date = datetime.strptime(date_str, \"%Y-%m-%d\")\n",
    "        \n",
    "        # Strip the date index of its timezone information\n",
    "        treasury_rate.index = treasury_rate.index.tz_localize(None)\n",
    "        \n",
    "        nearest_index = treasury_rate.index.get_indexer([date], method='nearest')[0]\n",
    "        r = treasury_rate.iloc[nearest_index]['Close'] / 100 \n",
    "\n",
    "    d1 = (math.log(S/K) + (r + 0.5 * v ** 2) * T) / (v * math.sqrt(T))\n",
    "    d2 = d1 - (v * math.sqrt(T))\n",
    "\n",
    "    if option_type.upper() == 'C':\n",
    "        option_price = S * norm.cdf(d1) - K * math.exp(-r * T) * norm.cdf(d2)\n",
    "    elif option_type.upper() == 'P':\n",
    "        option_price = K * math.exp(-r * T) * norm.cdf(-d2) - S * norm.cdf(-d1)\n",
    "    else:\n",
    "        raise ValueError(\"option_type unknown, available options are 'C' and 'P'\")\n",
    "  \n",
    "    return option_price\n",
    "\n",
    "print('Call Price: $', round(option_price(S=42, K=40, T=0.5, v=0.2, option_type='C', date_str='2024-01-01'), 2))\n",
    "print('Put Price: $', round(option_price(S=42, K=40, T=0.5, v=0.2, option_type='P', date_str='2024-01-01'), 2))\n"
   ]
  }
 ],
 "metadata": {
  "kernelspec": {
   "display_name": "Python 3 (ipykernel)",
   "language": "python",
   "name": "python3"
  },
  "language_info": {
   "codemirror_mode": {
    "name": "ipython",
    "version": 3
   },
   "file_extension": ".py",
   "mimetype": "text/x-python",
   "name": "python",
   "nbconvert_exporter": "python",
   "pygments_lexer": "ipython3",
   "version": "3.12.1"
  }
 },
 "nbformat": 4,
 "nbformat_minor": 2
}
