{
 "cells": [
  {
   "cell_type": "code",
   "execution_count": 3,
   "metadata": {},
   "outputs": [
    {
     "name": "stdout",
     "output_type": "stream",
     "text": [
      "Call Price: $ 3.94\n",
      "Put Price: $ 1.16\n"
     ]
    }
   ],
   "source": [
    "from math import sqrt, log, exp\n",
    "from scipy.stats import norm\n",
    "from scipy.optimize import newton\n",
    "from datetime import datetime\n",
    "\n",
    "%run \"./Back-End/Pricing Models/Black-Scholes/Black_Scholes_Option_Pricing_Model.ipynb\"\n",
    "%run \"./Back-End/Pricing Models/Black-Scholes/calc_risk_free_rate.ipynb\"\n"
   ]
  },
  {
   "cell_type": "code",
   "execution_count": 4,
   "metadata": {},
   "outputs": [],
   "source": [
    "def calculate_implied_volatility(S, K, T, market_price, option_type, date_str=None):\n",
    "    \"\"\"\n",
    "    Calculate the implied volatility using Black-Scholes formula and Newton-Raphson method\n",
    "    when market sources for volatility are unavailable.\n",
    "    \"\"\"\n",
    "    # Define the objective function and its derivative\n",
    "    def objective_function(volatility):\n",
    "        \"\"\"\n",
    "        Objective function: Difference between the calculated and market prices.\n",
    "        \"\"\"\n",
    "        price = option_price(S, K, T, volatility, option_type, date_str)\n",
    "        return price - market_price\n",
    "\n",
    "    def vega(volatility):\n",
    "        \"\"\"\n",
    "        Vega (the derivative of the option price with respect to volatility).\n",
    "        \"\"\"\n",
    "        # Calculate the rate using option_price logic for consistency\n",
    "        r = fetch_risk_free_rate(date_str)\n",
    "        d1 = (log(S / K) + (r + 0.5 * volatility ** 2) * T) / (volatility * sqrt(T))\n",
    "        return S * sqrt(T) * norm.pdf(d1)\n",
    "\n",
    "    # Solve for implied volatility\n",
    "    volatility_guess = 0.2\n",
    "    try:\n",
    "        implied_volatility = newton(objective_function, volatility_guess, fprime=vega)\n",
    "        return implied_volatility\n",
    "    except RuntimeError:\n",
    "        return \"Failed to converge: Try another initial guess\"\n"
   ]
  },
  {
   "cell_type": "code",
   "execution_count": 5,
   "metadata": {},
   "outputs": [
    {
     "name": "stdout",
     "output_type": "stream",
     "text": [
      "Implied Volatility:  0.25494619700681487\n"
     ]
    }
   ],
   "source": [
    "# Test\n",
    "S = 100 # Underlying asset price\n",
    "K = 100 # Strike price\n",
    "T = 1 # One year until expiry\n",
    "market_price = 12 # Retrieve this from your data\n",
    "option_type = 'C' # This can either be 'C' or 'P'\n",
    "date_str = '2024-01-01' # Example date, can be removed for the last available rate\n",
    "\n",
    "implied_volatility = calculate_implied_volatility(S, K, T, market_price, option_type, date_str)\n",
    "print(\"Implied Volatility: \", implied_volatility)\n"
   ]
  }
 ],
 "metadata": {
  "kernelspec": {
   "display_name": "Python 3 (ipykernel)",
   "language": "python",
   "name": "python3"
  }
 },
 "nbformat": 4,
 "nbformat_minor": 2
}
