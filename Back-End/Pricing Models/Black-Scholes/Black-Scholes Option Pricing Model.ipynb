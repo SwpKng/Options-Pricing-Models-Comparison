{
 "cells": [
  {
   "cell_type": "code",
   "execution_count": 9,
   "metadata": {},
   "outputs": [
    {
     "name": "stdout",
     "output_type": "stream",
     "text": [
      "Call Price: $ 3.94\n",
      "Put Price: $ 1.16\n"
     ]
    }
   ],
   "source": [
    "import math\n",
    "from scipy.stats import norm\n",
    "import yfinance as yf\n",
    "import pandas as pd\n",
    "from datetime import datetime\n",
    "\n",
    "def option_price(S, K, T, v, option_type, date_str=None):\n",
    "    # Fetch the historical data for 10 year US Treasury \n",
    "    treasury_rate = yf.Ticker(\"^TNX\").history(start='1900-1-1')\n",
    "\n",
    "    if date_str is None:  # If no date provided use the last available rate\n",
    "        r = treasury_rate['Close'].iloc[-1] / 100  \n",
    "    else:\n",
    "        date = datetime.strptime(date_str, \"%Y-%m-%d\")\n",
    "        \n",
    "        # Strip the date index of its timezone information\n",
    "        treasury_rate.index = treasury_rate.index.tz_localize(None)\n",
    "        \n",
    "        nearest_index = treasury_rate.index.get_indexer([date], method='nearest')[0]\n",
    "        r = treasury_rate.iloc[nearest_index]['Close'] / 100 \n",
    "\n",
    "    d1 = (math.log(S/K) + (r + 0.5 * v ** 2) * T) / (v * math.sqrt(T))\n",
    "    d2 = d1 - (v * math.sqrt(T))\n",
    "\n",
    "    if option_type.upper() == 'C':\n",
    "        option_price = S * norm.cdf(d1) - K * math.exp(-r * T) * norm.cdf(d2)\n",
    "    elif option_type.upper() == 'P':\n",
    "        option_price = K * math.exp(-r * T) * norm.cdf(-d2) - S * norm.cdf(-d1)\n",
    "    else:\n",
    "        raise ValueError(\"option_type unknown, available options are 'C' and 'P'\")\n",
    "  \n",
    "    return option_price\n",
    "\n",
    "print('Call Price: $', round(option_price(S=42, K=40, T=0.5, v=0.2, option_type='C', date_str='2024-01-01'), 2))\n",
    "print('Put Price: $', round(option_price(S=42, K=40, T=0.5, v=0.2, option_type='P', date_str='2024-01-01'), 2))\n"
   ]
  }
 ],
 "metadata": {
  "datalore": {
   "base_environment": "default",
   "computation_mode": "JUPYTER",
   "package_manager": "pip",
   "packages": [
    {
     "name": "yahoofinance",
     "source": "PIP",
     "version": "0.0.2"
    }
   ],
   "report_row_ids": [
    "I15tgv3GqNRg3EX9Xa8KJZ",
    "LvVxoxjgTp5HCpztKoQOY8",
    "ZWeeRndIqHCj4UIj0zUeYz",
    "DWJ3CNt1oEToIl2dictmRd",
    "AihNuJxbJaAB5pOh3hdIgD"
   ],
   "version": 3
  },
  "kernelspec": {
   "display_name": "Python 3 (ipykernel)",
   "language": "python",
   "name": "python3"
  },
  "language_info": {
   "codemirror_mode": {
    "name": "ipython",
    "version": 3
   },
   "file_extension": ".py",
   "mimetype": "text/x-python",
   "name": "python",
   "nbconvert_exporter": "python",
   "pygments_lexer": "ipython3",
   "version": "3.12.1"
  }
 },
 "nbformat": 4,
 "nbformat_minor": 4
}
