{
 "cells": [
  {
   "cell_type": "code",
   "execution_count": 1,
   "metadata": {},
   "outputs": [],
   "source": [
    "import yfinance as yf\n",
    "import numpy as np\n"
   ]
  },
  {
   "cell_type": "code",
   "execution_count": 2,
   "metadata": {},
   "outputs": [],
   "source": [
    "def calculate_annualized_volatility(ticker, start_date, end_date):\n",
    "    \n",
    "    stock_data = yf.download(ticker, start=start_date, end=end_date)\n",
    "\n",
    "    stock_data['log_returns'] = np.log(stock_data['Close'] / stock_data['Close'].shift(1)) \n",
    "    \n",
    "    daily_volatility = stock_data['log_returns'].std()\n",
    "\n",
    "    annualized_volatility = daily_volatility * np.sqrt(252)\n",
    "\n",
    "    return annualized_volatility\n",
    "\n",
    "\n"
   ]
  },
  {
   "cell_type": "code",
   "execution_count": 3,
   "metadata": {},
   "outputs": [
    {
     "name": "stderr",
     "output_type": "stream",
     "text": [
      "[*********************100%***********************]  1 of 1 completed"
     ]
    },
    {
     "name": "stdout",
     "output_type": "stream",
     "text": [
      "Annualized Volatility for TSLA is 64.18%\n"
     ]
    },
    {
     "name": "stderr",
     "output_type": "stream",
     "text": [
      "\n"
     ]
    }
   ],
   "source": [
    "ticker = 'TSLA'\n",
    "start_date = '2024-04-01'\n",
    "end_date = '2024-08-01'\n",
    "\n",
    "\n",
    "volatility = calculate_annualized_volatility(ticker, start_date, end_date)\n",
    "print(f\"Annualized Volatility for {ticker} is {volatility:.2%}\")"
   ]
  }
 ],
 "metadata": {
  "kernelspec": {
   "display_name": "Python 3 (ipykernel)",
   "language": "python",
   "name": "python3"
  },
  "language_info": {
   "codemirror_mode": {
    "name": "ipython",
    "version": 3
   },
   "file_extension": ".py",
   "mimetype": "text/x-python",
   "name": "python",
   "nbconvert_exporter": "python",
   "pygments_lexer": "ipython3",
   "version": "3.12.1"
  }
 },
 "nbformat": 4,
 "nbformat_minor": 2
}
