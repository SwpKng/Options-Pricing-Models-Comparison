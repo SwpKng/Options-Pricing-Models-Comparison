{
 "cells": [
  {
   "cell_type": "code",
   "execution_count": 1,
   "metadata": {},
   "outputs": [],
   "source": [
    "# Imports\n",
    "\n",
    "import numpy as np\n",
    "import math\n",
    "import yfinance as yf\n",
    "import pandas as pd\n",
    "from datetime import datetime\n",
    "\n",
    "\n",
    "%run \"./Back-End/Pricing Models/Black-Scholes/calc_risk_free_rate.ipynb\""
   ]
  },
  {
   "cell_type": "code",
   "execution_count": 2,
   "metadata": {},
   "outputs": [],
   "source": [
    "def binomial_tree(S, K, T, r, N, v, option_type):\n",
    "    \"\"\"\n",
    "    Calculate the option price using the Binomial Tree method, with parameters aligned to Black-Scholes.\n",
    "    \n",
    "    Parameters:\n",
    "    S: float - Current stock price\n",
    "    K: float - Strike price\n",
    "    T: float - Time to maturity in years\n",
    "    r: float - Risk-free interest rate\n",
    "    N: int - Number of steps in the binomial tree\n",
    "    v: float - Volatility of the underlying asset \n",
    "    option_type: str - 'C' for Call or 'P' for Put \n",
    "    \n",
    "    Returns:\n",
    "    float - Option price\n",
    "    \"\"\"\n",
    "    # Calculate time step and risk-neutral probabilities\n",
    "\n",
    "    dt = T / N                              # Length of each time step\n",
    "    u = math.exp(v * math.sqrt(dt))         # Upward movement factor\n",
    "    d = 1 / u                               # Downward movement factor (ensures no arbitrage)\n",
    "    p = (math.exp(r * dt) - d) / (u - d)    # Risk-neutral probability\n",
    "    q = 1 - p                               # Complement probability\n",
    "    \n",
    "    # Initialize asset prices at maturity\n",
    "    asset_prices = S * d**(np.arange(N, -1, -1)) * u**(np.arange(0, N+1, 1))\n",
    "    \n",
    "    # Initialize option values at maturity\n",
    "    if option_type.upper() == 'C':  # Call option\n",
    "        option_values = np.maximum(asset_prices - K, 0)\n",
    "    elif option_type.upper() == 'P':  # Put option\n",
    "        option_values = np.maximum(K - asset_prices, 0)\n",
    "    else:\n",
    "        raise ValueError(\"Invalid option_type. Use 'C' for Call or 'P' for Put.\")\n",
    "    \n",
    "    # Perform backward induction\n",
    "    for i in range(N, 0, -1):\n",
    "        option_values = math.exp(-r * dt) * (p * option_values[1:i+1] + q * option_values[0:i])\n",
    "    \n",
    "    return option_values[0]\n"
   ]
  },
  {
   "cell_type": "code",
   "execution_count": 3,
   "metadata": {},
   "outputs": [
    {
     "name": "stdout",
     "output_type": "stream",
     "text": [
      "Call Option Price: 10.52\n",
      "Put Option Price: 6.65\n"
     ]
    }
   ],
   "source": [
    "# Fetch the risk-free rate\n",
    "r = fetch_risk_free_rate(date_str=\"2024-01-01\")\n",
    "\n",
    "# Call Option Example\n",
    "call_price = binomial_tree(S=100, K=100, T=1, r=r, N=3, v=0.2, option_type='C')\n",
    "print(f\"Call Option Price: {call_price:.2f}\")\n",
    "\n",
    "# Put Option Example\n",
    "put_price = binomial_tree(S=100, K=100, T=1, r=r, N=3, v=0.2, option_type='P')\n",
    "print(f\"Put Option Price: {put_price:.2f}\")"
   ]
  }
 ],
 "metadata": {
  "kernelspec": {
   "display_name": "Python 3 (ipykernel)",
   "language": "python",
   "name": "python3"
  },
  "language_info": {
   "codemirror_mode": {
    "name": "ipython",
    "version": 3
   },
   "file_extension": ".py",
   "mimetype": "text/x-python",
   "name": "python",
   "nbconvert_exporter": "python",
   "pygments_lexer": "ipython3",
   "version": "3.12.1"
  }
 },
 "nbformat": 4,
 "nbformat_minor": 2
}
