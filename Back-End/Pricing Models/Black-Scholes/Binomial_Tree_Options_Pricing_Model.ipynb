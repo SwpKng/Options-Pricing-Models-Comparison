{
 "cells": [
  {
   "cell_type": "code",
   "execution_count": 1,
   "metadata": {},
   "outputs": [],
   "source": [
    "\n",
    "import numpy as np\n"
   ]
  },
  {
   "cell_type": "code",
   "execution_count": 2,
   "metadata": {},
   "outputs": [],
   "source": [
    "def binomial_tree(K, T, S0, r, N, u, d, opttype):\n",
    "    dt = T/N\n",
    "    discounted_value = np.exp(r*dt)\n",
    "    \n",
    "    p = (discounted_value - d) / (u - d)\n",
    "    q = 1 - p\n",
    "\n",
    "    # initialize asset prices at maturity \n",
    "    C = S0 *d**(np.arange(N, -1, -1)) * u**(np.arange(0, N+1, 1))\n",
    "\n",
    "    # initialize option values at maturity\n",
    "    if opttype == 'C':\n",
    "        C = np.maximum(C - K, np.zeros(N+1))\n",
    "    elif opttype == 'P':\n",
    "        C = np.maximum(K - C, np.zeros(N+1))\n",
    "    else: \n",
    "        print('error')\n",
    "    \n",
    "    for x in np.arange(N, 0, -1):\n",
    "        C = discounted_value * (p * C[1:x+1] + q * C[0:x])\n",
    "\n",
    "    return C[0]"
   ]
  },
  {
   "cell_type": "code",
   "execution_count": 13,
   "metadata": {},
   "outputs": [
    {
     "name": "stdout",
     "output_type": "stream",
     "text": [
      "Put Price: 11.72\n"
     ]
    }
   ],
   "source": [
    "put_test = binomial_tree(K=100, T=1, S0=100, r=0.06, N=3, u=1.1, d=0.9, opttype='P')\n",
    "print(f\"Put Price: {call_test:.2f}\")"
   ]
  },
  {
   "cell_type": "code",
   "execution_count": 14,
   "metadata": {},
   "outputs": [
    {
     "name": "stdout",
     "output_type": "stream",
     "text": [
      "Call Price: 5.15\n"
     ]
    }
   ],
   "source": [
    "call_test = binomial_tree(K=100, T=1, S0=100, r=0.06, N=3, u=1.1, d=0.9, opttype='C')\n",
    "print(f\"Call Price: {put_test:.2f}\")"
   ]
  }
 ],
 "metadata": {
  "kernelspec": {
   "display_name": "Python 3 (ipykernel)",
   "language": "python",
   "name": "python3"
  },
  "language_info": {
   "codemirror_mode": {
    "name": "ipython",
    "version": 3
   },
   "file_extension": ".py",
   "mimetype": "text/x-python",
   "name": "python",
   "nbconvert_exporter": "python",
   "pygments_lexer": "ipython3",
   "version": "3.12.1"
  }
 },
 "nbformat": 4,
 "nbformat_minor": 2
}
