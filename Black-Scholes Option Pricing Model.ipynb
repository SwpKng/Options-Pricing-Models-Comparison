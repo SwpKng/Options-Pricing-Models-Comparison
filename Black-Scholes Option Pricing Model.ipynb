{
 "cells":[
  {
   "cell_type":"code",
   "source":[
    "import math\n",
    "from scipy.stats import norm\n",
    "import yfinance as yf\n",
    "\n",
    "# Define Option Variables\n",
    "S = 42 # Underlying Price (USD)\n",
    "K = 40 # Strike Price (USD)\n",
    "T = 0.5 # Time to Expiration (years)\n",
    "\n",
    "# Fetch the yield for 10 year US Treasury \n",
    "treasury_rate = yf.Ticker(\"^TNX\")\n",
    "r = treasury_rate.info['previousClose'] \/ 100  # Risk-Free Rate (%)\n",
    "\n",
    "v = 0.2 # Volatility"
   ],
   "execution_count":18,
   "outputs":[],
   "metadata":{
    "datalore":{
     "node_id":"lGklPRpzoXDHFgXJRbySn7",
     "type":"CODE",
     "hide_input_from_viewers":false,
     "hide_output_from_viewers":false,
     "report_properties":{
      "rowId":"I15tgv3GqNRg3EX9Xa8KJZ"
     }
    }
   }
  },
  {
   "cell_type":"code",
   "source":[
    "d1 = (math.log(S\/K) + (r + (0.5 * v ** 2))*T) \/ (v * math.sqrt(T))\n",
    "d2 = d1 - (v * math.sqrt(T))"
   ],
   "execution_count":14,
   "outputs":[],
   "metadata":{
    "datalore":{
     "node_id":"lOywmZqCfJ8NGaouTEBrLd",
     "type":"CODE",
     "hide_input_from_viewers":false,
     "hide_output_from_viewers":false,
     "report_properties":{
      "rowId":"LvVxoxjgTp5HCpztKoQOY8"
     }
    }
   }
  },
  {
   "cell_type":"code",
   "source":[
    "# Initialize Call Option Price Formula\n",
    "\n",
    "C = S * norm.cdf(d1) - K * math.exp(-r * T) * norm.cdf(d2)"
   ],
   "execution_count":15,
   "outputs":[],
   "metadata":{
    "datalore":{
     "node_id":"chVftjHoNYhfI295cSaY5j",
     "type":"CODE",
     "hide_input_from_viewers":false,
     "hide_output_from_viewers":false,
     "report_properties":{
      "rowId":"ZWeeRndIqHCj4UIj0zUeYz"
     }
    }
   }
  },
  {
   "cell_type":"code",
   "source":[
    "# Initialize Put Option Price Formula\n",
    "\n",
    "P = K * math.exp(-r * T) * norm.cdf(-d2) - S * norm.cdf(-d1)"
   ],
   "execution_count":16,
   "outputs":[],
   "metadata":{
    "datalore":{
     "node_id":"g9OErxJt2B3F7HDxgBqSdu",
     "type":"CODE",
     "hide_input_from_viewers":false,
     "hide_output_from_viewers":false,
     "report_properties":{
      "rowId":"DWJ3CNt1oEToIl2dictmRd"
     }
    }
   }
  },
  {
   "cell_type":"code",
   "source":[
    "print('d1:', round(d1, 4))\n",
    "print('d2:', round(d2, 4))\n",
    "print('Call Price: $', round(C, 2))\n",
    "print('Put Price: $', round(P, 2))"
   ],
   "execution_count":17,
   "outputs":[
    {
     "name":"stdout",
     "text":[
      "d1: 0.5773\n",
      "d2: 0.4359\n",
      "Call Price: $ 4.02\n",
      "Put Price: $ 1.12\n"
     ],
     "output_type":"stream"
    }
   ],
   "metadata":{
    "datalore":{
     "node_id":"IVSy9Rv6X8ql2WJEulFSTI",
     "type":"CODE",
     "hide_input_from_viewers":false,
     "hide_output_from_viewers":false,
     "report_properties":{
      "rowId":"AihNuJxbJaAB5pOh3hdIgD"
     }
    }
   }
  }
 ],
 "metadata":{
  "kernelspec":{
   "display_name":"Python",
   "language":"python",
   "name":"python"
  },
  "datalore":{
   "computation_mode":"JUPYTER",
   "package_manager":"pip",
   "base_environment":"default",
   "packages":[
    {
     "name":"yahoofinance",
     "version":"0.0.2",
     "source":"PIP"
    }
   ],
   "report_row_ids":[
    "I15tgv3GqNRg3EX9Xa8KJZ",
    "LvVxoxjgTp5HCpztKoQOY8",
    "ZWeeRndIqHCj4UIj0zUeYz",
    "DWJ3CNt1oEToIl2dictmRd",
    "AihNuJxbJaAB5pOh3hdIgD"
   ],
   "version":3
  }
 },
 "nbformat":4,
 "nbformat_minor":4
}